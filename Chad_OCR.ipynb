{
 "cells": [
  {
   "cell_type": "markdown",
   "id": "8ccf6949-0974-4cfa-bd7c-ab31e421f5a8",
   "metadata": {},
   "source": [
    "NICAR: PDF processing with OCR and command-line tools: https://github.com/profrobwells/nicar_ocr?tab=readme-ov-file"
   ]
  },
  {
   "cell_type": "code",
   "execution_count": 4,
   "id": "19e32742-b03f-4262-a747-05875d07dd1b",
   "metadata": {},
   "outputs": [],
   "source": [
    "import sys"
   ]
  },
  {
   "cell_type": "code",
   "execution_count": 5,
   "id": "b6447cde-52ee-44cb-84de-49810066c376",
   "metadata": {},
   "outputs": [
    {
     "ename": "SyntaxError",
     "evalue": "invalid syntax (1907266983.py, line 1)",
     "output_type": "error",
     "traceback": [
      "\u001b[0;36m  Cell \u001b[0;32mIn[5], line 1\u001b[0;36m\u001b[0m\n\u001b[0;31m    brew help\u001b[0m\n\u001b[0m         ^\u001b[0m\n\u001b[0;31mSyntaxError\u001b[0m\u001b[0;31m:\u001b[0m invalid syntax\n"
     ]
    }
   ],
   "source": [
    "brew help"
   ]
  },
  {
   "cell_type": "code",
   "execution_count": 6,
   "id": "750111f7-a3b7-4883-8502-eef0f6c2d9bb",
   "metadata": {},
   "outputs": [
    {
     "name": "stdout",
     "output_type": "stream",
     "text": [
      "Example usage:\n",
      "  brew search TEXT|/REGEX/\n",
      "  brew info [FORMULA|CASK...]\n",
      "  brew install FORMULA|CASK...\n",
      "  brew update\n",
      "  brew upgrade [FORMULA|CASK...]\n",
      "  brew uninstall FORMULA|CASK...\n",
      "  brew list [FORMULA|CASK...]\n",
      "\n",
      "Troubleshooting:\n",
      "  brew config\n",
      "  brew doctor\n",
      "  brew install --verbose --debug FORMULA|CASK\n",
      "\n",
      "Contributing:\n",
      "  brew create URL [--no-fetch]\n",
      "  brew edit [FORMULA|CASK...]\n",
      "\n",
      "Further help:\n",
      "  brew commands\n",
      "  brew help [COMMAND]\n",
      "  man brew\n",
      "  https://docs.brew.sh\n"
     ]
    }
   ],
   "source": [
    "!brew help"
   ]
  },
  {
   "cell_type": "code",
   "execution_count": 7,
   "id": "23de1931-064d-4221-b04a-3f88fd5d750f",
   "metadata": {},
   "outputs": [
    {
     "name": "stdout",
     "output_type": "stream",
     "text": [
      "Python 3.10.4\n"
     ]
    }
   ],
   "source": [
    "!python --version"
   ]
  },
  {
   "cell_type": "code",
   "execution_count": 8,
   "id": "72092a21-f51b-4859-b642-a1edf6386b2b",
   "metadata": {},
   "outputs": [
    {
     "name": "stdout",
     "output_type": "stream",
     "text": [
      "\u001b[33mWarning:\u001b[0m tesseract 5.4.1 is already installed and up-to-date.\n",
      "To reinstall 5.4.1, run:\n",
      "  brew reinstall tesseract\n"
     ]
    }
   ],
   "source": [
    "!brew install tesseract"
   ]
  },
  {
   "cell_type": "code",
   "execution_count": 1,
   "id": "f2587c8f-b4b1-464b-be40-9927582d6f89",
   "metadata": {},
   "outputs": [
    {
     "name": "stdout",
     "output_type": "stream",
     "text": [
      "\u001b[34m==>\u001b[0m \u001b[1mDownloading https://formulae.brew.sh/api/formula.jws.json\u001b[0m\n",
      "######################################################################### 100.0%\n",
      "\u001b[34m==>\u001b[0m \u001b[1mDownloading https://formulae.brew.sh/api/cask.jws.json\u001b[0m\n",
      "######################################################################### 100.0%\n",
      "\u001b[34m==>\u001b[0m \u001b[1mDownloading https://ghcr.io/v2/homebrew/core/xpdf/manifests/4.05\u001b[0m\n",
      "Already downloaded: /Users/robwells/Library/Caches/Homebrew/downloads/a96074f1a36319c31044ba1b421d6391a8be5a3fc3d5241793eef24cb1c5a473--xpdf-4.05.bottle_manifest.json\n",
      "\u001b[32m==>\u001b[0m \u001b[1mFetching \u001b[32mxpdf\u001b[39m\u001b[0m\n",
      "\u001b[34m==>\u001b[0m \u001b[1mDownloading https://ghcr.io/v2/homebrew/core/xpdf/blobs/sha256:b9003b9879cfe\u001b[0m\n",
      "Already downloaded: /Users/robwells/Library/Caches/Homebrew/downloads/4c313b5b5b71fbc737fb1cabd53c961788b26e9aff5b2ac78ee6ac3bbd7b9567--xpdf--4.05.ventura.bottle.tar.gz\n",
      "\u001b[34m==>\u001b[0m \u001b[1mPouring xpdf--4.05.ventura.bottle.tar.gz\u001b[0m\n",
      "🍺  /usr/local/Cellar/xpdf/4.05: 27 files, 14.9MB\n",
      "\u001b[34m==>\u001b[0m \u001b[1mRunning `brew cleanup xpdf`...\u001b[0m\n",
      "Disable this behaviour by setting HOMEBREW_NO_INSTALL_CLEANUP.\n",
      "Hide these hints with HOMEBREW_NO_ENV_HINTS (see `man brew`).\n"
     ]
    }
   ],
   "source": [
    "!brew install xpdf"
   ]
  },
  {
   "cell_type": "code",
   "execution_count": 2,
   "id": "a4704f1f-ec15-4de3-83f7-59298833f49c",
   "metadata": {},
   "outputs": [
    {
     "name": "stdout",
     "output_type": "stream",
     "text": [
      "xcode-select: error: command line tools are already installed, use \"Software Update\" in System Settings to install updates\n"
     ]
    }
   ],
   "source": [
    "!xcode-select --install"
   ]
  },
  {
   "cell_type": "code",
   "execution_count": 3,
   "id": "0ec9d577-547c-41b3-9ed5-a412101ef7be",
   "metadata": {},
   "outputs": [
    {
     "name": "stdout",
     "output_type": "stream",
     "text": [
      "\u001b[33mWarning:\u001b[0m libtiff 4.6.0 is already installed and up-to-date.\n",
      "To reinstall 4.6.0, run:\n",
      "  brew reinstall libtiff\n"
     ]
    }
   ],
   "source": [
    "!brew install libtiff"
   ]
  },
  {
   "cell_type": "code",
   "execution_count": 4,
   "id": "9149b3c9-6f66-4ead-8d07-574378bd78e2",
   "metadata": {},
   "outputs": [
    {
     "name": "stdout",
     "output_type": "stream",
     "text": [
      "\u001b[34m==>\u001b[0m \u001b[1mDownloading https://ghcr.io/v2/homebrew/core/ghostscript/manifests/10.03.1\u001b[0m\n",
      "######################################################################### 100.0%\n",
      "\u001b[32m==>\u001b[0m \u001b[1mFetching dependencies for ghostscript: \u001b[32mjbig2dec\u001b[39m and \u001b[32mlibidn\u001b[39m\u001b[0m\n",
      "\u001b[34m==>\u001b[0m \u001b[1mDownloading https://ghcr.io/v2/homebrew/core/jbig2dec/manifests/0.20\u001b[0m\n",
      "Already downloaded: /Users/robwells/Library/Caches/Homebrew/downloads/8d21a0eddc94902acc1bb126cf78e775c7b2381f25532e02a7f9e2974a817577--jbig2dec-0.20.bottle_manifest.json\n",
      "\u001b[32m==>\u001b[0m \u001b[1mFetching \u001b[32mjbig2dec\u001b[39m\u001b[0m\n",
      "\u001b[34m==>\u001b[0m \u001b[1mDownloading https://ghcr.io/v2/homebrew/core/jbig2dec/blobs/sha256:daab35fae\u001b[0m\n",
      "######################################################################### 100.0%\n",
      "\u001b[34m==>\u001b[0m \u001b[1mDownloading https://ghcr.io/v2/homebrew/core/libidn/manifests/1.42\u001b[0m\n",
      "Already downloaded: /Users/robwells/Library/Caches/Homebrew/downloads/786bf942d09cb90f8745be7db019bfd8ba760f0bf109f78bb1b787d5ab7490db--libidn-1.42.bottle_manifest.json\n",
      "\u001b[32m==>\u001b[0m \u001b[1mFetching \u001b[32mlibidn\u001b[39m\u001b[0m\n",
      "\u001b[34m==>\u001b[0m \u001b[1mDownloading https://ghcr.io/v2/homebrew/core/libidn/blobs/sha256:367c1d3e452\u001b[0m\n",
      "######################################################################### 100.0%\n",
      "\u001b[32m==>\u001b[0m \u001b[1mFetching \u001b[32mghostscript\u001b[39m\u001b[0m\n",
      "\u001b[34m==>\u001b[0m \u001b[1mDownloading https://ghcr.io/v2/homebrew/core/ghostscript/blobs/sha256:9b7687\u001b[0m\n",
      "######################################################################### 100.0%\n",
      "\u001b[32m==>\u001b[0m \u001b[1mInstalling dependencies for ghostscript: \u001b[32mjbig2dec\u001b[39m and \u001b[32mlibidn\u001b[39m\u001b[0m\n",
      "\u001b[32m==>\u001b[0m \u001b[1mInstalling ghostscript dependency: \u001b[32mjbig2dec\u001b[39m\u001b[0m\n",
      "\u001b[34m==>\u001b[0m \u001b[1mDownloading https://ghcr.io/v2/homebrew/core/jbig2dec/manifests/0.20\u001b[0m\n",
      "Already downloaded: /Users/robwells/Library/Caches/Homebrew/downloads/8d21a0eddc94902acc1bb126cf78e775c7b2381f25532e02a7f9e2974a817577--jbig2dec-0.20.bottle_manifest.json\n",
      "\u001b[34m==>\u001b[0m \u001b[1mPouring jbig2dec--0.20.ventura.bottle.tar.gz\u001b[0m\n",
      "🍺  /usr/local/Cellar/jbig2dec/0.20: 14 files, 377.7KB\n",
      "\u001b[32m==>\u001b[0m \u001b[1mInstalling ghostscript dependency: \u001b[32mlibidn\u001b[39m\u001b[0m\n",
      "\u001b[34m==>\u001b[0m \u001b[1mDownloading https://ghcr.io/v2/homebrew/core/libidn/manifests/1.42\u001b[0m\n",
      "Already downloaded: /Users/robwells/Library/Caches/Homebrew/downloads/786bf942d09cb90f8745be7db019bfd8ba760f0bf109f78bb1b787d5ab7490db--libidn-1.42.bottle_manifest.json\n",
      "\u001b[34m==>\u001b[0m \u001b[1mPouring libidn--1.42.ventura.bottle.tar.gz\u001b[0m\n",
      "🍺  /usr/local/Cellar/libidn/1.42: 74 files, 1MB\n",
      "\u001b[32m==>\u001b[0m \u001b[1mInstalling \u001b[32mghostscript\u001b[39m\u001b[0m\n",
      "\u001b[34m==>\u001b[0m \u001b[1mPouring ghostscript--10.03.1.ventura.bottle.tar.gz\u001b[0m\n",
      "\u001b[31mError:\u001b[0m The `brew link` step did not complete successfully\n",
      "The formula built, but is not symlinked into /usr/local\n",
      "Could not symlink bin/dvipdf\n",
      "Target /usr/local/bin/dvipdf\n",
      "already exists. You may want to remove it:\n",
      "  rm '/usr/local/bin/dvipdf'\n",
      "\n",
      "To force the link and overwrite all conflicting files:\n",
      "  brew link --overwrite ghostscript\n",
      "\n",
      "To list all files that would be deleted:\n",
      "  brew link --overwrite ghostscript --dry-run\n",
      "\n",
      "Possible conflicting files are:\n",
      "/usr/local/bin/dvipdf\n",
      "/usr/local/bin/eps2eps\n",
      "/usr/local/bin/gs -> /usr/local/bin/gs-X11\n",
      "/usr/local/bin/gsbj\n",
      "/usr/local/bin/gsdj\n",
      "/usr/local/bin/gsdj500\n",
      "/usr/local/bin/gslj\n",
      "/usr/local/bin/gslp\n",
      "/usr/local/bin/gsnd\n",
      "/usr/local/bin/lprsetup.sh\n",
      "/usr/local/bin/pdf2dsc\n",
      "/usr/local/bin/pdf2ps\n",
      "/usr/local/bin/pf2afm\n",
      "/usr/local/bin/pfbtopfa\n",
      "/usr/local/bin/pphs\n",
      "/usr/local/bin/printafm\n",
      "/usr/local/bin/ps2ascii\n",
      "/usr/local/bin/ps2epsi\n",
      "/usr/local/bin/ps2pdf\n",
      "/usr/local/bin/ps2pdf12\n",
      "/usr/local/bin/ps2pdf13\n",
      "/usr/local/bin/ps2pdf14\n",
      "/usr/local/bin/ps2pdfwr\n",
      "/usr/local/bin/ps2ps\n",
      "/usr/local/bin/ps2ps2\n",
      "/usr/local/bin/unix-lpr.sh\n",
      "/usr/local/share/man/man1/dvipdf.1\n",
      "/usr/local/share/man/man1/eps2eps.1 -> /usr/local/share/man/man1/ps2ps.1\n",
      "/usr/local/share/man/man1/gs.1\n",
      "/usr/local/share/man/man1/gsbj.1 -> /usr/local/share/man/man1/gslp.1\n",
      "/usr/local/share/man/man1/gsdj.1 -> /usr/local/share/man/man1/gslp.1\n",
      "/usr/local/share/man/man1/gsdj500.1 -> /usr/local/share/man/man1/gslp.1\n",
      "/usr/local/share/man/man1/gslj.1 -> /usr/local/share/man/man1/gslp.1\n",
      "/usr/local/share/man/man1/gslp.1\n",
      "/usr/local/share/man/man1/gsnd.1\n",
      "/usr/local/share/man/man1/pdf2dsc.1\n",
      "/usr/local/share/man/man1/pdf2ps.1\n",
      "/usr/local/share/man/man1/pf2afm.1\n",
      "/usr/local/share/man/man1/pfbtopfa.1\n",
      "/usr/local/share/man/man1/printafm.1\n",
      "/usr/local/share/man/man1/ps2ascii.1\n",
      "/usr/local/share/man/man1/ps2epsi.1\n",
      "/usr/local/share/man/man1/ps2pdf.1\n",
      "/usr/local/share/man/man1/ps2pdf12.1 -> /usr/local/share/man/man1/ps2pdf.1\n",
      "/usr/local/share/man/man1/ps2pdf13.1 -> /usr/local/share/man/man1/ps2pdf.1\n",
      "/usr/local/share/man/man1/ps2pdf14.1 -> /usr/local/share/man/man1/ps2pdf.1\n",
      "/usr/local/share/man/man1/ps2pdfwr.1\n",
      "/usr/local/share/man/man1/ps2ps.1\n",
      "\u001b[34m==>\u001b[0m \u001b[1mSummary\u001b[0m\n",
      "🍺  /usr/local/Cellar/ghostscript/10.03.1: 640 files, 146.5MB\n",
      "\u001b[34m==>\u001b[0m \u001b[1mRunning `brew cleanup ghostscript`...\u001b[0m\n",
      "Disable this behaviour by setting HOMEBREW_NO_INSTALL_CLEANUP.\n",
      "Hide these hints with HOMEBREW_NO_ENV_HINTS (see `man brew`).\n"
     ]
    }
   ],
   "source": [
    "!brew install ghostscript"
   ]
  },
  {
   "cell_type": "code",
   "execution_count": 5,
   "id": "1e91f274-b7c0-4109-9003-fc4be30dbc74",
   "metadata": {},
   "outputs": [
    {
     "name": "stdout",
     "output_type": "stream",
     "text": [
      "\u001b[34m==>\u001b[0m \u001b[1mDownloading https://ghcr.io/v2/homebrew/core/imagemagick/manifests/7.1.1-34\u001b[0m\n",
      "######################################################################### 100.0%\n",
      "\u001b[32m==>\u001b[0m \u001b[1mFetching dependencies for imagemagick: \u001b[32mliblqr\u001b[39m, \u001b[32mjasper\u001b[39m, \u001b[32mlibomp\u001b[39m and \u001b[32mlibraw\u001b[39m\u001b[0m\n",
      "\u001b[34m==>\u001b[0m \u001b[1mDownloading https://ghcr.io/v2/homebrew/core/liblqr/manifests/0.4.2_1-2\u001b[0m\n",
      "Already downloaded: /Users/robwells/Library/Caches/Homebrew/downloads/47fefd703ba858f276c3793ea02c6432b74ceb7a3f1fa1fdf882e2f925f601cc--liblqr-0.4.2_1-2.bottle_manifest.json\n",
      "\u001b[32m==>\u001b[0m \u001b[1mFetching \u001b[32mliblqr\u001b[39m\u001b[0m\n",
      "\u001b[34m==>\u001b[0m \u001b[1mDownloading https://ghcr.io/v2/homebrew/core/liblqr/blobs/sha256:03196839892\u001b[0m\n",
      "######################################################################### 100.0%\n",
      "\u001b[34m==>\u001b[0m \u001b[1mDownloading https://ghcr.io/v2/homebrew/core/jasper/manifests/4.2.4\u001b[0m\n",
      "######################################################################### 100.0%\n",
      "\u001b[32m==>\u001b[0m \u001b[1mFetching \u001b[32mjasper\u001b[39m\u001b[0m\n",
      "\u001b[34m==>\u001b[0m \u001b[1mDownloading https://ghcr.io/v2/homebrew/core/jasper/blobs/sha256:18d3d583cb9\u001b[0m\n",
      "######################################################################### 100.0%\n",
      "\u001b[34m==>\u001b[0m \u001b[1mDownloading https://ghcr.io/v2/homebrew/core/libomp/manifests/18.1.8\u001b[0m\n",
      "######################################################################### 100.0%\n",
      "\u001b[32m==>\u001b[0m \u001b[1mFetching \u001b[32mlibomp\u001b[39m\u001b[0m\n",
      "\u001b[34m==>\u001b[0m \u001b[1mDownloading https://ghcr.io/v2/homebrew/core/libomp/blobs/sha256:6acfa701a4c\u001b[0m\n",
      "######################################################################### 100.0%\n",
      "\u001b[34m==>\u001b[0m \u001b[1mDownloading https://ghcr.io/v2/homebrew/core/libraw/manifests/0.21.2\u001b[0m\n",
      "Already downloaded: /Users/robwells/Library/Caches/Homebrew/downloads/9486d462a427bd1b90a94393ea1e8304f3b9974455e794f2c03a1c2622edc48c--libraw-0.21.2.bottle_manifest.json\n",
      "\u001b[32m==>\u001b[0m \u001b[1mFetching \u001b[32mlibraw\u001b[39m\u001b[0m\n",
      "\u001b[34m==>\u001b[0m \u001b[1mDownloading https://ghcr.io/v2/homebrew/core/libraw/blobs/sha256:81b40bc80c4\u001b[0m\n",
      "######################################################################### 100.0%\n",
      "\u001b[32m==>\u001b[0m \u001b[1mFetching \u001b[32mimagemagick\u001b[39m\u001b[0m\n",
      "\u001b[34m==>\u001b[0m \u001b[1mDownloading https://ghcr.io/v2/homebrew/core/imagemagick/blobs/sha256:f644c3\u001b[0m\n",
      "######################################################################### 100.0%\n",
      "\u001b[32m==>\u001b[0m \u001b[1mInstalling dependencies for imagemagick: \u001b[32mliblqr\u001b[39m, \u001b[32mjasper\u001b[39m, \u001b[32mlibomp\u001b[39m and \u001b[32mlibraw\u001b[39m\u001b[0m\n",
      "\u001b[32m==>\u001b[0m \u001b[1mInstalling imagemagick dependency: \u001b[32mliblqr\u001b[39m\u001b[0m\n",
      "\u001b[34m==>\u001b[0m \u001b[1mDownloading https://ghcr.io/v2/homebrew/core/liblqr/manifests/0.4.2_1-2\u001b[0m\n",
      "Already downloaded: /Users/robwells/Library/Caches/Homebrew/downloads/47fefd703ba858f276c3793ea02c6432b74ceb7a3f1fa1fdf882e2f925f601cc--liblqr-0.4.2_1-2.bottle_manifest.json\n",
      "\u001b[34m==>\u001b[0m \u001b[1mPouring liblqr--0.4.2_1.ventura.bottle.2.tar.gz\u001b[0m\n",
      "🍺  /usr/local/Cellar/liblqr/0.4.2_1: 114 files, 298.1KB\n",
      "\u001b[32m==>\u001b[0m \u001b[1mInstalling imagemagick dependency: \u001b[32mjasper\u001b[39m\u001b[0m\n",
      "\u001b[34m==>\u001b[0m \u001b[1mDownloading https://ghcr.io/v2/homebrew/core/jasper/manifests/4.2.4\u001b[0m\n",
      "Already downloaded: /Users/robwells/Library/Caches/Homebrew/downloads/0edc7047fdbd9e0fd88f4c5ceed204b57e9b4d4f42c1b1b21c502d68fce31118--jasper-4.2.4.bottle_manifest.json\n",
      "\u001b[34m==>\u001b[0m \u001b[1mPouring jasper--4.2.4.ventura.bottle.tar.gz\u001b[0m\n",
      "🍺  /usr/local/Cellar/jasper/4.2.4: 45 files, 1.5MB\n",
      "\u001b[32m==>\u001b[0m \u001b[1mInstalling imagemagick dependency: \u001b[32mlibomp\u001b[39m\u001b[0m\n",
      "\u001b[34m==>\u001b[0m \u001b[1mDownloading https://ghcr.io/v2/homebrew/core/libomp/manifests/18.1.8\u001b[0m\n",
      "Already downloaded: /Users/robwells/Library/Caches/Homebrew/downloads/da99115efe32745571227849712891e23a62c80bfe43968e7bf5897849f3a27e--libomp-18.1.8.bottle_manifest.json\n",
      "\u001b[34m==>\u001b[0m \u001b[1mPouring libomp--18.1.8.ventura.bottle.tar.gz\u001b[0m\n",
      "🍺  /usr/local/Cellar/libomp/18.1.8: 9 files, 1.7MB\n",
      "\u001b[32m==>\u001b[0m \u001b[1mInstalling imagemagick dependency: \u001b[32mlibraw\u001b[39m\u001b[0m\n",
      "\u001b[34m==>\u001b[0m \u001b[1mDownloading https://ghcr.io/v2/homebrew/core/libraw/manifests/0.21.2\u001b[0m\n",
      "Already downloaded: /Users/robwells/Library/Caches/Homebrew/downloads/9486d462a427bd1b90a94393ea1e8304f3b9974455e794f2c03a1c2622edc48c--libraw-0.21.2.bottle_manifest.json\n",
      "\u001b[34m==>\u001b[0m \u001b[1mPouring libraw--0.21.2.ventura.bottle.tar.gz\u001b[0m\n",
      "🍺  /usr/local/Cellar/libraw/0.21.2: 74 files, 5.6MB\n",
      "\u001b[32m==>\u001b[0m \u001b[1mInstalling \u001b[32mimagemagick\u001b[39m\u001b[0m\n",
      "\u001b[34m==>\u001b[0m \u001b[1mPouring imagemagick--7.1.1-34.ventura.bottle.tar.gz\u001b[0m\n",
      "🍺  /usr/local/Cellar/imagemagick/7.1.1-34: 808 files, 30MB\n",
      "\u001b[34m==>\u001b[0m \u001b[1mRunning `brew cleanup imagemagick`...\u001b[0m\n",
      "Disable this behaviour by setting HOMEBREW_NO_INSTALL_CLEANUP.\n",
      "Hide these hints with HOMEBREW_NO_ENV_HINTS (see `man brew`).\n",
      "Removing: /Users/robwells/Library/Caches/Homebrew/imagemagick_bottle_manifest--7.1.1-29_1... (91.7KB)\n"
     ]
    }
   ],
   "source": [
    "!brew install imagemagick"
   ]
  },
  {
   "cell_type": "code",
   "execution_count": 6,
   "id": "5282d873-31e5-4ad5-baf0-2c37b0335752",
   "metadata": {},
   "outputs": [],
   "source": [
    "!pdftotext /Users/robwells/Code/misc_notes/notes/Manafort_filing.pdf name-of-my-text-file.txt"
   ]
  },
  {
   "cell_type": "code",
   "execution_count": 8,
   "id": "2d4f117c-f113-42d4-88f1-11e4097861ba",
   "metadata": {},
   "outputs": [],
   "source": [
    "!pdftotext -table /Users/robwells/Code/misc_notes/notes/07012018-report-final.pdf tabular-test1.txt"
   ]
  },
  {
   "cell_type": "markdown",
   "id": "94d186b4-a01e-45b1-8009-4a0b24462f3c",
   "metadata": {},
   "source": [
    "In python, create a loop to extract all pdf documents in the folder pdfs and export the text into a folder called extracted. here's the basic code. !pdftotext /Users/robwells/Code/misc_notes/Manafort_filing.pdf name-of-my-text-file.txt\n",
    "ChatGPT\n",
    "You can achieve this using the os module to navigate through files and folders and the subprocess module to execute the pdftotext command. Below is the Python code to accomplish this:"
   ]
  },
  {
   "cell_type": "code",
   "execution_count": 9,
   "id": "4b14441e-3294-4701-bee4-7c14b449617e",
   "metadata": {},
   "outputs": [
    {
     "name": "stderr",
     "output_type": "stream",
     "text": [
      "Syntax Warning: May not be a PDF file (continuing anyway)\n",
      "Syntax Error: Couldn't read xref table\n",
      "Syntax Warning: PDF file is damaged - attempting to reconstruct xref table...\n",
      "Syntax Error: Couldn't find trailer dictionary\n",
      "Syntax Error: Couldn't read xref table\n",
      "Syntax Warning: May not be a PDF file (continuing anyway)\n",
      "Syntax Error: Couldn't read xref table\n",
      "Syntax Warning: PDF file is damaged - attempting to reconstruct xref table...\n",
      "Syntax Error: Couldn't find trailer dictionary\n",
      "Syntax Error: Couldn't read xref table\n",
      "Syntax Warning: May not be a PDF file (continuing anyway)\n",
      "Syntax Error: Couldn't read xref table\n",
      "Syntax Warning: PDF file is damaged - attempting to reconstruct xref table...\n",
      "Syntax Error: Couldn't find trailer dictionary\n",
      "Syntax Error: Couldn't read xref table\n",
      "Syntax Warning: May not be a PDF file (continuing anyway)\n",
      "Syntax Error: Couldn't read xref table\n",
      "Syntax Warning: PDF file is damaged - attempting to reconstruct xref table...\n",
      "Syntax Error: Couldn't find trailer dictionary\n",
      "Syntax Error: Couldn't read xref table\n",
      "Syntax Warning: May not be a PDF file (continuing anyway)\n",
      "Syntax Error: Couldn't read xref table\n",
      "Syntax Warning: PDF file is damaged - attempting to reconstruct xref table...\n",
      "Syntax Error: Couldn't find trailer dictionary\n",
      "Syntax Error: Couldn't read xref table\n",
      "Syntax Warning: May not be a PDF file (continuing anyway)\n",
      "Syntax Error: Couldn't read xref table\n",
      "Syntax Warning: PDF file is damaged - attempting to reconstruct xref table...\n",
      "Syntax Error: Couldn't find trailer dictionary\n",
      "Syntax Error: Couldn't read xref table\n"
     ]
    },
    {
     "name": "stdout",
     "output_type": "stream",
     "text": [
      "Text extracted from Mob Lynches Negro Despite Gov.png and saved to Mob Lynches Negro Despite Gov.txt.\n",
      "Text extracted from Mob Lynches Negro Despite Gov5.png and saved to Mob Lynches Negro Despite Gov5.txt.\n",
      "Text extracted from Mob Lynches Negro Despite Gov4.png and saved to Mob Lynches Negro Despite Gov4.txt.\n",
      "Text extracted from Firemen Attempt to Lynch Sure Thing Gamblers2.pdf and saved to Firemen Attempt to Lynch Sure Thing Gamblers2.txt.\n",
      "Text extracted from Mob Lynches Negro Despite Gov3.png and saved to Mob Lynches Negro Despite Gov3.txt.\n",
      "Text extracted from Mob Lynches Negro Despite Gov2.png and saved to Mob Lynches Negro Despite Gov2.txt.\n",
      "Text extracted from Firemen Attempt to Lynch Sure Thing Gamblers.png and saved to Firemen Attempt to Lynch Sure Thing Gamblers.txt.\n",
      "Text extracted from Firemen2.pdf and saved to Firemen2.txt.\n",
      "Text extracted from how to keep our liberty_1952-03-03_newsweek.pdf and saved to how to keep our liberty_1952-03-03_newsweek.txt.\n",
      "Text extracted from a lynching in ohio.png and saved to a lynching in ohio.txt.\n",
      "Text extracted from A Dummy Darkey.png and saved to A Dummy Darkey.txt.\n",
      "Text extracted from perspective_1952-02-18_newsweek.pdf and saved to perspective_1952-02-18_newsweek.txt.\n",
      "Text extracted from perspective_1952-01-21_newsweek.pdf and saved to perspective_1952-01-21_newsweek.txt.\n",
      "Text extracted from a lynching in ohio2.png and saved to a lynching in ohio2.txt.\n",
      "Text extracted from perspective__1952-03-03_newsweek.pdf and saved to perspective__1952-03-03_newsweek.txt.\n"
     ]
    },
    {
     "name": "stderr",
     "output_type": "stream",
     "text": [
      "Syntax Warning: May not be a PDF file (continuing anyway)\n",
      "Syntax Error: Couldn't read xref table\n",
      "Syntax Warning: PDF file is damaged - attempting to reconstruct xref table...\n",
      "Syntax Error: Couldn't find trailer dictionary\n",
      "Syntax Error: Couldn't read xref table\n",
      "Syntax Warning: May not be a PDF file (continuing anyway)\n",
      "Syntax Error: Couldn't read xref table\n",
      "Syntax Warning: PDF file is damaged - attempting to reconstruct xref table...\n",
      "Syntax Error: Couldn't find trailer dictionary\n",
      "Syntax Error: Couldn't read xref table\n",
      "Syntax Warning: May not be a PDF file (continuing anyway)\n",
      "Syntax Error: Couldn't read xref table\n",
      "Syntax Warning: PDF file is damaged - attempting to reconstruct xref table...\n",
      "Syntax Error: Couldn't find trailer dictionary\n",
      "Syntax Error: Couldn't read xref table\n"
     ]
    }
   ],
   "source": [
    "import os\n",
    "import subprocess\n",
    "\n",
    "# Path to the folder containing PDFs\n",
    "pdf_folder = '/Users/robwells/Code/misc_notes/pdfs'\n",
    "\n",
    "# Path to the folder where extracted text will be saved\n",
    "extracted_folder = '/Users/robwells/Code/misc_notes/extracted'\n",
    "\n",
    "# Create the extracted folder if it doesn't exist\n",
    "if not os.path.exists(extracted_folder):\n",
    "    os.makedirs(extracted_folder)\n",
    "\n",
    "# Loop through all files in the PDF folder\n",
    "for filename in os.listdir(pdf_folder):\n",
    "    if filename.endswith('.pdf') or filename.endswith('.png'):\n",
    "        # Construct the input and output paths\n",
    "        input_path = os.path.join(pdf_folder, filename)\n",
    "        output_filename = os.path.splitext(filename)[0] + '.txt'\n",
    "        output_path = os.path.join(extracted_folder, output_filename)\n",
    "\n",
    "        # Run pdftotext command\n",
    "        subprocess.run(['pdftotext', input_path, output_path])\n",
    "\n",
    "        print(f\"Text extracted from {filename} and saved to {output_filename}.\")\n"
   ]
  },
  {
   "cell_type": "code",
   "execution_count": 19,
   "id": "eeeab295-9eba-4753-b460-7c7ff468af00",
   "metadata": {},
   "outputs": [],
   "source": [
    "!pdftotext /Users/robwells/Code/misc_notes/pdfs/Firemen2.pdf firemen2.txt"
   ]
  },
  {
   "cell_type": "code",
   "execution_count": 22,
   "id": "c2b8c690-f2b3-405f-950d-409ed06864a4",
   "metadata": {},
   "outputs": [
    {
     "name": "stdout",
     "output_type": "stream",
     "text": [
      "\u001b[34m==>\u001b[0m \u001b[1mDownloading https://formulae.brew.sh/api/formula.jws.json\u001b[0m\n",
      "\n",
      "\u001b[34m==>\u001b[0m \u001b[1mDownloading https://formulae.brew.sh/api/cask.jws.json\u001b[0m\n",
      "\n",
      "\u001b[34m==>\u001b[0m \u001b[1mDownloading https://ghcr.io/v2/homebrew/core/tesseract/manifests/5.3.4_1\u001b[0m\n",
      "Already downloaded: /Users/robwells/Library/Caches/Homebrew/downloads/acc8a888b856c817d327ce191d481841dd96fa1f12fd672a4672e6ce1a9fd2fb--tesseract-5.3.4_1.bottle_manifest.json\n",
      "\u001b[32m==>\u001b[0m \u001b[1mFetching dependencies for tesseract: \u001b[32mxorgproto\u001b[39m, \u001b[32mlibxau\u001b[39m, \u001b[32mlibxdmcp\u001b[39m, \u001b[32mlibxcb\u001b[39m, \u001b[32mlibx11\u001b[39m, \u001b[32mlibxext\u001b[39m, \u001b[32mlibxrender\u001b[39m, \u001b[32mlzo\u001b[39m, \u001b[32mpixman\u001b[39m, \u001b[32mcairo\u001b[39m, \u001b[32micu4c\u001b[39m, \u001b[32mleptonica\u001b[39m, \u001b[32mlibb2\u001b[39m, \u001b[32mlibarchive\u001b[39m, \u001b[32mfribidi\u001b[39m, \u001b[32mgraphite2\u001b[39m, \u001b[32mharfbuzz\u001b[39m and \u001b[32mpango\u001b[39m\u001b[0m\n",
      "\u001b[34m==>\u001b[0m \u001b[1mDownloading https://ghcr.io/v2/homebrew/core/xorgproto/manifests/2023.2\u001b[0m\n",
      "######################################################################### 100.0%\n",
      "\u001b[32m==>\u001b[0m \u001b[1mFetching \u001b[32mxorgproto\u001b[39m\u001b[0m\n",
      "\u001b[34m==>\u001b[0m \u001b[1mDownloading https://ghcr.io/v2/homebrew/core/xorgproto/blobs/sha256:de818c35\u001b[0m\n",
      "######################################################################### 100.0%\n",
      "\u001b[34m==>\u001b[0m \u001b[1mDownloading https://ghcr.io/v2/homebrew/core/libxau/manifests/1.0.11\u001b[0m\n",
      "######################################################################### 100.0%\n",
      "\u001b[32m==>\u001b[0m \u001b[1mFetching \u001b[32mlibxau\u001b[39m\u001b[0m\n",
      "\u001b[34m==>\u001b[0m \u001b[1mDownloading https://ghcr.io/v2/homebrew/core/libxau/blobs/sha256:d8cc440c580\u001b[0m\n",
      "######################################################################### 100.0%\n",
      "\u001b[34m==>\u001b[0m \u001b[1mDownloading https://ghcr.io/v2/homebrew/core/libxdmcp/manifests/1.1.5\u001b[0m\n",
      "######################################################################### 100.0%\n",
      "\u001b[32m==>\u001b[0m \u001b[1mFetching \u001b[32mlibxdmcp\u001b[39m\u001b[0m\n",
      "\u001b[34m==>\u001b[0m \u001b[1mDownloading https://ghcr.io/v2/homebrew/core/libxdmcp/blobs/sha256:5c459f7ce\u001b[0m\n",
      "######################################################################### 100.0%\n",
      "\u001b[34m==>\u001b[0m \u001b[1mDownloading https://ghcr.io/v2/homebrew/core/libxcb/manifests/1.16.1\u001b[0m\n",
      "######################################################################### 100.0%\n",
      "\u001b[32m==>\u001b[0m \u001b[1mFetching \u001b[32mlibxcb\u001b[39m\u001b[0m\n",
      "\u001b[34m==>\u001b[0m \u001b[1mDownloading https://ghcr.io/v2/homebrew/core/libxcb/blobs/sha256:86dc3b8e7bc\u001b[0m\n",
      "######################################################################### 100.0%\n",
      "\u001b[34m==>\u001b[0m \u001b[1mDownloading https://ghcr.io/v2/homebrew/core/libx11/manifests/1.8.7\u001b[0m\n",
      "######################################################################### 100.0%\n",
      "\u001b[32m==>\u001b[0m \u001b[1mFetching \u001b[32mlibx11\u001b[39m\u001b[0m\n",
      "\u001b[34m==>\u001b[0m \u001b[1mDownloading https://ghcr.io/v2/homebrew/core/libx11/blobs/sha256:1b8f10d203c\u001b[0m\n",
      "######################################################################### 100.0%\n",
      "\u001b[34m==>\u001b[0m \u001b[1mDownloading https://ghcr.io/v2/homebrew/core/libxext/manifests/1.3.6\u001b[0m\n",
      "######################################################################### 100.0%\n",
      "\u001b[32m==>\u001b[0m \u001b[1mFetching \u001b[32mlibxext\u001b[39m\u001b[0m\n",
      "\u001b[34m==>\u001b[0m \u001b[1mDownloading https://ghcr.io/v2/homebrew/core/libxext/blobs/sha256:fb6852f038\u001b[0m\n",
      "######################################################################### 100.0%\n",
      "\u001b[34m==>\u001b[0m \u001b[1mDownloading https://ghcr.io/v2/homebrew/core/libxrender/manifests/0.9.11\u001b[0m\n",
      "######################################################################### 100.0%\n",
      "\u001b[32m==>\u001b[0m \u001b[1mFetching \u001b[32mlibxrender\u001b[39m\u001b[0m\n",
      "\u001b[34m==>\u001b[0m \u001b[1mDownloading https://ghcr.io/v2/homebrew/core/libxrender/blobs/sha256:510d0cd\u001b[0m\n",
      "######################################################################### 100.0%\n",
      "\u001b[34m==>\u001b[0m \u001b[1mDownloading https://ghcr.io/v2/homebrew/core/lzo/manifests/2.10\u001b[0m\n",
      "######################################################################### 100.0%\n",
      "\u001b[32m==>\u001b[0m \u001b[1mFetching \u001b[32mlzo\u001b[39m\u001b[0m\n",
      "\u001b[34m==>\u001b[0m \u001b[1mDownloading https://ghcr.io/v2/homebrew/core/lzo/blobs/sha256:a565c627b13f2d\u001b[0m\n",
      "######################################################################### 100.0%\n",
      "\u001b[34m==>\u001b[0m \u001b[1mDownloading https://ghcr.io/v2/homebrew/core/pixman/manifests/0.42.2-1\u001b[0m\n",
      "######################################################################### 100.0%\n",
      "\u001b[32m==>\u001b[0m \u001b[1mFetching \u001b[32mpixman\u001b[39m\u001b[0m\n",
      "\u001b[34m==>\u001b[0m \u001b[1mDownloading https://ghcr.io/v2/homebrew/core/pixman/blobs/sha256:e27867c503b\u001b[0m\n",
      "######################################################################### 100.0%\n",
      "\u001b[34m==>\u001b[0m \u001b[1mDownloading https://ghcr.io/v2/homebrew/core/cairo/manifests/1.18.0\u001b[0m\n",
      "######################################################################### 100.0%\n",
      "\u001b[32m==>\u001b[0m \u001b[1mFetching \u001b[32mcairo\u001b[39m\u001b[0m\n",
      "\u001b[34m==>\u001b[0m \u001b[1mDownloading https://ghcr.io/v2/homebrew/core/cairo/blobs/sha256:e71518b5feb9\u001b[0m\n",
      "######################################################################### 100.0%\n",
      "\u001b[34m==>\u001b[0m \u001b[1mDownloading https://ghcr.io/v2/homebrew/core/icu4c/manifests/74.2\u001b[0m\n",
      "######################################################################### 100.0%\n",
      "\u001b[32m==>\u001b[0m \u001b[1mFetching \u001b[32micu4c\u001b[39m\u001b[0m\n",
      "\u001b[34m==>\u001b[0m \u001b[1mDownloading https://ghcr.io/v2/homebrew/core/icu4c/blobs/sha256:3c707a483df5\u001b[0m\n",
      "######################################################################### 100.0%\n",
      "\u001b[34m==>\u001b[0m \u001b[1mDownloading https://ghcr.io/v2/homebrew/core/leptonica/manifests/1.84.1\u001b[0m\n",
      "######################################################################### 100.0%\n",
      "\u001b[32m==>\u001b[0m \u001b[1mFetching \u001b[32mleptonica\u001b[39m\u001b[0m\n",
      "\u001b[34m==>\u001b[0m \u001b[1mDownloading https://ghcr.io/v2/homebrew/core/leptonica/blobs/sha256:a508e574\u001b[0m\n",
      "######################################################################### 100.0%\n",
      "\u001b[34m==>\u001b[0m \u001b[1mDownloading https://ghcr.io/v2/homebrew/core/libb2/manifests/0.98.1\u001b[0m\n",
      "######################################################################### 100.0%\n",
      "\u001b[32m==>\u001b[0m \u001b[1mFetching \u001b[32mlibb2\u001b[39m\u001b[0m\n",
      "\u001b[34m==>\u001b[0m \u001b[1mDownloading https://ghcr.io/v2/homebrew/core/libb2/blobs/sha256:6c9ffaf08fde\u001b[0m\n",
      "######################################################################### 100.0%\n",
      "\u001b[34m==>\u001b[0m \u001b[1mDownloading https://ghcr.io/v2/homebrew/core/libarchive/manifests/3.7.2\u001b[0m\n",
      "######################################################################### 100.0%\n",
      "\u001b[32m==>\u001b[0m \u001b[1mFetching \u001b[32mlibarchive\u001b[39m\u001b[0m\n",
      "\u001b[34m==>\u001b[0m \u001b[1mDownloading https://ghcr.io/v2/homebrew/core/libarchive/blobs/sha256:732a8e0\u001b[0m\n",
      "######################################################################### 100.0%\n",
      "\u001b[34m==>\u001b[0m \u001b[1mDownloading https://ghcr.io/v2/homebrew/core/fribidi/manifests/1.0.13\u001b[0m\n",
      "######################################################################### 100.0%\n",
      "\u001b[32m==>\u001b[0m \u001b[1mFetching \u001b[32mfribidi\u001b[39m\u001b[0m\n",
      "\u001b[34m==>\u001b[0m \u001b[1mDownloading https://ghcr.io/v2/homebrew/core/fribidi/blobs/sha256:0272f179ba\u001b[0m\n",
      "######################################################################### 100.0%\n",
      "\u001b[34m==>\u001b[0m \u001b[1mDownloading https://ghcr.io/v2/homebrew/core/graphite2/manifests/1.3.14\u001b[0m\n",
      "######################################################################### 100.0%\n",
      "\u001b[32m==>\u001b[0m \u001b[1mFetching \u001b[32mgraphite2\u001b[39m\u001b[0m\n",
      "\u001b[34m==>\u001b[0m \u001b[1mDownloading https://ghcr.io/v2/homebrew/core/graphite2/blobs/sha256:3ec77041\u001b[0m\n",
      "######################################################################### 100.0%\n",
      "\u001b[34m==>\u001b[0m \u001b[1mDownloading https://ghcr.io/v2/homebrew/core/harfbuzz/manifests/8.3.1\u001b[0m\n",
      "######################################################################### 100.0%\n",
      "\u001b[32m==>\u001b[0m \u001b[1mFetching \u001b[32mharfbuzz\u001b[39m\u001b[0m\n",
      "\u001b[34m==>\u001b[0m \u001b[1mDownloading https://ghcr.io/v2/homebrew/core/harfbuzz/blobs/sha256:31f450c8c\u001b[0m\n",
      "######################################################################### 100.0%\n",
      "\u001b[34m==>\u001b[0m \u001b[1mDownloading https://ghcr.io/v2/homebrew/core/pango/manifests/1.52.1\u001b[0m\n",
      "######################################################################### 100.0%\n",
      "\u001b[32m==>\u001b[0m \u001b[1mFetching \u001b[32mpango\u001b[39m\u001b[0m\n",
      "\u001b[34m==>\u001b[0m \u001b[1mDownloading https://ghcr.io/v2/homebrew/core/pango/blobs/sha256:d86c67fd39af\u001b[0m\n",
      "######################################################################### 100.0%\n",
      "\u001b[32m==>\u001b[0m \u001b[1mFetching \u001b[32mtesseract\u001b[39m\u001b[0m\n",
      "\u001b[34m==>\u001b[0m \u001b[1mDownloading https://ghcr.io/v2/homebrew/core/tesseract/blobs/sha256:f3781bcc\u001b[0m\n",
      "######################################################################### 100.0%\n",
      "\u001b[32m==>\u001b[0m \u001b[1mInstalling dependencies for tesseract: \u001b[32mxorgproto\u001b[39m, \u001b[32mlibxau\u001b[39m, \u001b[32mlibxdmcp\u001b[39m, \u001b[32mlibxcb\u001b[39m, \u001b[32mlibx11\u001b[39m, \u001b[32mlibxext\u001b[39m, \u001b[32mlibxrender\u001b[39m, \u001b[32mlzo\u001b[39m, \u001b[32mpixman\u001b[39m, \u001b[32mcairo\u001b[39m, \u001b[32micu4c\u001b[39m, \u001b[32mleptonica\u001b[39m, \u001b[32mlibb2\u001b[39m, \u001b[32mlibarchive\u001b[39m, \u001b[32mfribidi\u001b[39m, \u001b[32mgraphite2\u001b[39m, \u001b[32mharfbuzz\u001b[39m and \u001b[32mpango\u001b[39m\u001b[0m\n",
      "\u001b[32m==>\u001b[0m \u001b[1mInstalling tesseract dependency: \u001b[32mxorgproto\u001b[39m\u001b[0m\n",
      "\u001b[34m==>\u001b[0m \u001b[1mDownloading https://ghcr.io/v2/homebrew/core/xorgproto/manifests/2023.2\u001b[0m\n",
      "Already downloaded: /Users/robwells/Library/Caches/Homebrew/downloads/8740825bd79ba6441c86fb430f955cb3d08f4693dd2947fe877c11c7c8122343--xorgproto-2023.2.bottle_manifest.json\n",
      "\u001b[34m==>\u001b[0m \u001b[1mPouring xorgproto--2023.2.arm64_ventura.bottle.tar.gz\u001b[0m\n",
      "🍺  /opt/homebrew/Cellar/xorgproto/2023.2: 267 files, 3.9MB\n",
      "\u001b[32m==>\u001b[0m \u001b[1mInstalling tesseract dependency: \u001b[32mlibxau\u001b[39m\u001b[0m\n",
      "\u001b[34m==>\u001b[0m \u001b[1mDownloading https://ghcr.io/v2/homebrew/core/libxau/manifests/1.0.11\u001b[0m\n",
      "Already downloaded: /Users/robwells/Library/Caches/Homebrew/downloads/7faff26297b2e07682655beaa529cff7b3de0ad1abc013863ca3d03602b79ee7--libxau-1.0.11.bottle_manifest.json\n",
      "\u001b[34m==>\u001b[0m \u001b[1mPouring libxau--1.0.11.arm64_ventura.bottle.tar.gz\u001b[0m\n",
      "🍺  /opt/homebrew/Cellar/libxau/1.0.11: 21 files, 123.5KB\n",
      "\u001b[32m==>\u001b[0m \u001b[1mInstalling tesseract dependency: \u001b[32mlibxdmcp\u001b[39m\u001b[0m\n",
      "\u001b[34m==>\u001b[0m \u001b[1mDownloading https://ghcr.io/v2/homebrew/core/libxdmcp/manifests/1.1.5\u001b[0m\n",
      "Already downloaded: /Users/robwells/Library/Caches/Homebrew/downloads/8713e53f73d0be64780dbea522b0ee07027e6cc7828ff1a4fa0a6596f14cfe25--libxdmcp-1.1.5.bottle_manifest.json\n",
      "\u001b[34m==>\u001b[0m \u001b[1mPouring libxdmcp--1.1.5.arm64_ventura.bottle.tar.gz\u001b[0m\n",
      "🍺  /opt/homebrew/Cellar/libxdmcp/1.1.5: 11 files, 136.4KB\n",
      "\u001b[32m==>\u001b[0m \u001b[1mInstalling tesseract dependency: \u001b[32mlibxcb\u001b[39m\u001b[0m\n",
      "\u001b[34m==>\u001b[0m \u001b[1mDownloading https://ghcr.io/v2/homebrew/core/libxcb/manifests/1.16.1\u001b[0m\n",
      "Already downloaded: /Users/robwells/Library/Caches/Homebrew/downloads/8770f5784e17b45567a2910cdf1ce0b535f85fc18cea509377ca1a6549ad6168--libxcb-1.16.1.bottle_manifest.json\n",
      "\u001b[34m==>\u001b[0m \u001b[1mPouring libxcb--1.16.1.arm64_ventura.bottle.tar.gz\u001b[0m\n",
      "🍺  /opt/homebrew/Cellar/libxcb/1.16.1: 2,462 files, 7.5MB\n",
      "\u001b[32m==>\u001b[0m \u001b[1mInstalling tesseract dependency: \u001b[32mlibx11\u001b[39m\u001b[0m\n",
      "\u001b[34m==>\u001b[0m \u001b[1mDownloading https://ghcr.io/v2/homebrew/core/libx11/manifests/1.8.7\u001b[0m\n",
      "Already downloaded: /Users/robwells/Library/Caches/Homebrew/downloads/4d15c929e0532c9a908dcb7d562929ecc5dd3a0a0cd4c19cf50683c06282fd7f--libx11-1.8.7.bottle_manifest.json\n",
      "\u001b[34m==>\u001b[0m \u001b[1mPouring libx11--1.8.7.arm64_ventura.bottle.tar.gz\u001b[0m\n",
      "🍺  /opt/homebrew/Cellar/libx11/1.8.7: 1,042 files, 7.0MB\n",
      "\u001b[32m==>\u001b[0m \u001b[1mInstalling tesseract dependency: \u001b[32mlibxext\u001b[39m\u001b[0m\n",
      "\u001b[34m==>\u001b[0m \u001b[1mDownloading https://ghcr.io/v2/homebrew/core/libxext/manifests/1.3.6\u001b[0m\n",
      "Already downloaded: /Users/robwells/Library/Caches/Homebrew/downloads/fedb843acbfcf682fb451396914bfc096f9ea2748376d4c43ce2af7ce1b766b7--libxext-1.3.6.bottle_manifest.json\n",
      "\u001b[34m==>\u001b[0m \u001b[1mPouring libxext--1.3.6.arm64_ventura.bottle.tar.gz\u001b[0m\n",
      "🍺  /opt/homebrew/Cellar/libxext/1.3.6: 87 files, 450.9KB\n",
      "\u001b[32m==>\u001b[0m \u001b[1mInstalling tesseract dependency: \u001b[32mlibxrender\u001b[39m\u001b[0m\n",
      "\u001b[34m==>\u001b[0m \u001b[1mDownloading https://ghcr.io/v2/homebrew/core/libxrender/manifests/0.9.11\u001b[0m\n",
      "Already downloaded: /Users/robwells/Library/Caches/Homebrew/downloads/134c11be8346a1b116e04983c2da6366f29c4f4c2abc17604dcdb80d0475ae9d--libxrender-0.9.11.bottle_manifest.json\n",
      "\u001b[34m==>\u001b[0m \u001b[1mPouring libxrender--0.9.11.arm64_ventura.bottle.tar.gz\u001b[0m\n",
      "🍺  /opt/homebrew/Cellar/libxrender/0.9.11: 12 files, 214.1KB\n",
      "\u001b[32m==>\u001b[0m \u001b[1mInstalling tesseract dependency: \u001b[32mlzo\u001b[39m\u001b[0m\n",
      "\u001b[34m==>\u001b[0m \u001b[1mDownloading https://ghcr.io/v2/homebrew/core/lzo/manifests/2.10\u001b[0m\n",
      "Already downloaded: /Users/robwells/Library/Caches/Homebrew/downloads/d4aa5b0c239912c53bc857d1012c6b7feb4acb509618f5e100f95bf8521f08e7--lzo-2.10.bottle_manifest.json\n",
      "\u001b[34m==>\u001b[0m \u001b[1mPouring lzo--2.10.arm64_ventura.bottle.tar.gz\u001b[0m\n",
      "🍺  /opt/homebrew/Cellar/lzo/2.10: 31 files, 566.2KB\n",
      "\u001b[32m==>\u001b[0m \u001b[1mInstalling tesseract dependency: \u001b[32mpixman\u001b[39m\u001b[0m\n",
      "\u001b[34m==>\u001b[0m \u001b[1mDownloading https://ghcr.io/v2/homebrew/core/pixman/manifests/0.42.2-1\u001b[0m\n",
      "Already downloaded: /Users/robwells/Library/Caches/Homebrew/downloads/2b0d8f2c63712ce503fa54309b732051a7ca5cd31bd561aa4aaba331bf26bcef--pixman-0.42.2-1.bottle_manifest.json\n",
      "\u001b[34m==>\u001b[0m \u001b[1mPouring pixman--0.42.2.arm64_ventura.bottle.1.tar.gz\u001b[0m\n",
      "🍺  /opt/homebrew/Cellar/pixman/0.42.2: 11 files, 1.2MB\n",
      "\u001b[32m==>\u001b[0m \u001b[1mInstalling tesseract dependency: \u001b[32mcairo\u001b[39m\u001b[0m\n",
      "\u001b[34m==>\u001b[0m \u001b[1mDownloading https://ghcr.io/v2/homebrew/core/cairo/manifests/1.18.0\u001b[0m\n",
      "Already downloaded: /Users/robwells/Library/Caches/Homebrew/downloads/1b8b7f19e38cb0e029497dfe0ad3f3557f605025c5575bdfe86c17b889c6e6d1--cairo-1.18.0.bottle_manifest.json\n",
      "\u001b[34m==>\u001b[0m \u001b[1mPouring cairo--1.18.0.arm64_ventura.bottle.tar.gz\u001b[0m\n",
      "🍺  /opt/homebrew/Cellar/cairo/1.18.0: 52 files, 2.1MB\n",
      "\u001b[32m==>\u001b[0m \u001b[1mInstalling tesseract dependency: \u001b[32micu4c\u001b[39m\u001b[0m\n",
      "\u001b[34m==>\u001b[0m \u001b[1mDownloading https://ghcr.io/v2/homebrew/core/icu4c/manifests/74.2\u001b[0m\n",
      "Already downloaded: /Users/robwells/Library/Caches/Homebrew/downloads/3e5230e726e5548db28bc0cf75710d6405903b742f941113d3dbe7483fad72a4--icu4c-74.2.bottle_manifest.json\n",
      "\u001b[34m==>\u001b[0m \u001b[1mPouring icu4c--74.2.arm64_ventura.bottle.tar.gz\u001b[0m\n",
      "🍺  /opt/homebrew/Cellar/icu4c/74.2: 270 files, 77.9MB\n",
      "\u001b[32m==>\u001b[0m \u001b[1mInstalling tesseract dependency: \u001b[32mleptonica\u001b[39m\u001b[0m\n",
      "\u001b[34m==>\u001b[0m \u001b[1mDownloading https://ghcr.io/v2/homebrew/core/leptonica/manifests/1.84.1\u001b[0m\n",
      "Already downloaded: /Users/robwells/Library/Caches/Homebrew/downloads/dc88f036b102e560c7103a72d25bc9ac6cc15c37284c0a81cd30f4fc0281eaa9--leptonica-1.84.1.bottle_manifest.json\n",
      "\u001b[34m==>\u001b[0m \u001b[1mPouring leptonica--1.84.1.arm64_ventura.bottle.tar.gz\u001b[0m\n",
      "🍺  /opt/homebrew/Cellar/leptonica/1.84.1: 56 files, 7.0MB\n",
      "\u001b[32m==>\u001b[0m \u001b[1mInstalling tesseract dependency: \u001b[32mlibb2\u001b[39m\u001b[0m\n",
      "\u001b[34m==>\u001b[0m \u001b[1mDownloading https://ghcr.io/v2/homebrew/core/libb2/manifests/0.98.1\u001b[0m\n",
      "Already downloaded: /Users/robwells/Library/Caches/Homebrew/downloads/9bb23dca331f0d74876fa5c769113885b92af8a741a851cdfe99f6dfd420b12d--libb2-0.98.1.bottle_manifest.json\n",
      "\u001b[34m==>\u001b[0m \u001b[1mPouring libb2--0.98.1.arm64_ventura.bottle.tar.gz\u001b[0m\n",
      "🍺  /opt/homebrew/Cellar/libb2/0.98.1: 8 files, 109.5KB\n",
      "\u001b[32m==>\u001b[0m \u001b[1mInstalling tesseract dependency: \u001b[32mlibarchive\u001b[39m\u001b[0m\n",
      "\u001b[34m==>\u001b[0m \u001b[1mDownloading https://ghcr.io/v2/homebrew/core/libarchive/manifests/3.7.2\u001b[0m\n",
      "Already downloaded: /Users/robwells/Library/Caches/Homebrew/downloads/dc600437b981b2479561e7eb5a90cb0badce06ec7c23305e66f3ed4deaf3ed88--libarchive-3.7.2.bottle_manifest.json\n",
      "\u001b[34m==>\u001b[0m \u001b[1mPouring libarchive--3.7.2.arm64_ventura.bottle.tar.gz\u001b[0m\n",
      "🍺  /opt/homebrew/Cellar/libarchive/3.7.2: 64 files, 3.9MB\n",
      "\u001b[32m==>\u001b[0m \u001b[1mInstalling tesseract dependency: \u001b[32mfribidi\u001b[39m\u001b[0m\n",
      "\u001b[34m==>\u001b[0m \u001b[1mDownloading https://ghcr.io/v2/homebrew/core/fribidi/manifests/1.0.13\u001b[0m\n",
      "Already downloaded: /Users/robwells/Library/Caches/Homebrew/downloads/0a8bdd323a3d26862d77249d5999ab774d1966995ddac29d67eb9a63d53552ff--fribidi-1.0.13.bottle_manifest.json\n",
      "\u001b[34m==>\u001b[0m \u001b[1mPouring fribidi--1.0.13.arm64_ventura.bottle.tar.gz\u001b[0m\n",
      "🍺  /opt/homebrew/Cellar/fribidi/1.0.13: 67 files, 733.3KB\n",
      "\u001b[32m==>\u001b[0m \u001b[1mInstalling tesseract dependency: \u001b[32mgraphite2\u001b[39m\u001b[0m\n",
      "\u001b[34m==>\u001b[0m \u001b[1mDownloading https://ghcr.io/v2/homebrew/core/graphite2/manifests/1.3.14\u001b[0m\n",
      "Already downloaded: /Users/robwells/Library/Caches/Homebrew/downloads/bbb4dd2ef1846301d1eb08053e19e11ca9c780f93f4d3b2d638fd94a9bf54a0c--graphite2-1.3.14.bottle_manifest.json\n",
      "\u001b[34m==>\u001b[0m \u001b[1mPouring graphite2--1.3.14.arm64_ventura.bottle.tar.gz\u001b[0m\n",
      "🍺  /opt/homebrew/Cellar/graphite2/1.3.14: 18 files, 281.2KB\n",
      "\u001b[32m==>\u001b[0m \u001b[1mInstalling tesseract dependency: \u001b[32mharfbuzz\u001b[39m\u001b[0m\n",
      "\u001b[34m==>\u001b[0m \u001b[1mDownloading https://ghcr.io/v2/homebrew/core/harfbuzz/manifests/8.3.1\u001b[0m\n",
      "Already downloaded: /Users/robwells/Library/Caches/Homebrew/downloads/d1a129b769bc2f91f37db23a35a32b9c3ebf78702f8d451731f37d2b8c6a8896--harfbuzz-8.3.1.bottle_manifest.json\n",
      "\u001b[34m==>\u001b[0m \u001b[1mPouring harfbuzz--8.3.1.arm64_ventura.bottle.tar.gz\u001b[0m\n",
      "🍺  /opt/homebrew/Cellar/harfbuzz/8.3.1: 76 files, 9.6MB\n",
      "\u001b[32m==>\u001b[0m \u001b[1mInstalling tesseract dependency: \u001b[32mpango\u001b[39m\u001b[0m\n",
      "\u001b[34m==>\u001b[0m \u001b[1mDownloading https://ghcr.io/v2/homebrew/core/pango/manifests/1.52.1\u001b[0m\n",
      "Already downloaded: /Users/robwells/Library/Caches/Homebrew/downloads/f4545973ddf01c839bf2c79907bfc3746fdd7171567472ad0f08cd6b28e06104--pango-1.52.1.bottle_manifest.json\n",
      "\u001b[34m==>\u001b[0m \u001b[1mPouring pango--1.52.1.arm64_ventura.bottle.tar.gz\u001b[0m\n",
      "🍺  /opt/homebrew/Cellar/pango/1.52.1: 68 files, 3.4MB\n",
      "\u001b[32m==>\u001b[0m \u001b[1mInstalling \u001b[32mtesseract\u001b[39m\u001b[0m\n",
      "\u001b[34m==>\u001b[0m \u001b[1mPouring tesseract--5.3.4_1.arm64_ventura.bottle.tar.gz\u001b[0m\n",
      "\u001b[34m==>\u001b[0m \u001b[1mCaveats\u001b[0m\n",
      "This formula contains only the \"eng\", \"osd\", and \"snum\" language data files.\n",
      "If you need any other supported languages, run `brew install tesseract-lang`.\n",
      "\u001b[34m==>\u001b[0m \u001b[1mSummary\u001b[0m\n",
      "🍺  /opt/homebrew/Cellar/tesseract/5.3.4_1: 73 files, 32.6MB\n",
      "\u001b[34m==>\u001b[0m \u001b[1mRunning `brew cleanup tesseract`...\u001b[0m\n",
      "Disable this behaviour by setting HOMEBREW_NO_INSTALL_CLEANUP.\n",
      "Hide these hints with HOMEBREW_NO_ENV_HINTS (see `man brew`).\n",
      "\u001b[32m==>\u001b[0m \u001b[1mCaveats\u001b[0m\n",
      "\u001b[34m==>\u001b[0m \u001b[1mtesseract\u001b[0m\n",
      "This formula contains only the \"eng\", \"osd\", and \"snum\" language data files.\n",
      "If you need any other supported languages, run `brew install tesseract-lang`.\n"
     ]
    }
   ],
   "source": [
    "!brew install tesseract"
   ]
  },
  {
   "cell_type": "markdown",
   "id": "dd1a084a-f19b-42ca-806d-c96daa724aed",
   "metadata": {},
   "source": [
    "To convert png files, it's a two step process. First use tesseract to convert to searchable pdf and then pdftotext to text"
   ]
  },
  {
   "cell_type": "code",
   "execution_count": 23,
   "id": "019dcc7e-0bf0-407d-87f8-db3c1a213b44",
   "metadata": {},
   "outputs": [
    {
     "name": "stdout",
     "output_type": "stream",
     "text": [
      "Usage:\n",
      "  tesseract --help | --help-extra | --version\n",
      "  tesseract --list-langs\n",
      "  tesseract imagename outputbase [options...] [configfile...]\n",
      "\n",
      "OCR options:\n",
      "  -l LANG[+LANG]        Specify language(s) used for OCR.\n",
      "NOTE: These options must occur before any configfile.\n",
      "\n",
      "Single options:\n",
      "  --help                Show this help message.\n",
      "  --help-extra          Show extra help for advanced users.\n",
      "  --version             Show version information.\n",
      "  --list-langs          List available languages for tesseract engine.\n"
     ]
    }
   ],
   "source": [
    "!tesseract -h"
   ]
  },
  {
   "cell_type": "code",
   "execution_count": 26,
   "id": "72a52623-d307-49ba-a2e8-98cd1f9317fb",
   "metadata": {},
   "outputs": [
    {
     "name": "stdout",
     "output_type": "stream",
     "text": [
      "Estimating resolution as 174\n"
     ]
    }
   ],
   "source": [
    "!tesseract /Users/robwells/Code/misc_notes/pdfs/'a lynching in ohio.png' out pdf"
   ]
  },
  {
   "cell_type": "code",
   "execution_count": 27,
   "id": "ce841d00-877e-42d6-989d-e5bba4790eb7",
   "metadata": {},
   "outputs": [],
   "source": [
    "!pdftotext out.pdf out.txt"
   ]
  },
  {
   "cell_type": "markdown",
   "id": "d229a49c-1e75-4a54-a157-df026c5a3a41",
   "metadata": {},
   "source": [
    "Another option suggested by chatgpt"
   ]
  },
  {
   "cell_type": "code",
   "execution_count": 17,
   "id": "9538e664-ea20-4839-8abf-0d3632c6fb99",
   "metadata": {},
   "outputs": [
    {
     "name": "stdout",
     "output_type": "stream",
     "text": [
      "\u001b[31mERROR: Could not find a version that satisfies the requirement re (from versions: none)\u001b[0m\u001b[31m\n",
      "\u001b[0m\u001b[31mERROR: No matching distribution found for re\u001b[0m\u001b[31m\n",
      "\u001b[0mNote: you may need to restart the kernel to use updated packages.\n"
     ]
    }
   ],
   "source": [
    "pip install re"
   ]
  },
  {
   "cell_type": "code",
   "execution_count": 12,
   "id": "56662db4-4e06-4316-ab27-3bf152657f9c",
   "metadata": {},
   "outputs": [
    {
     "name": "stdout",
     "output_type": "stream",
     "text": [
      "Collecting PyPDF2\n",
      "  Downloading pypdf2-3.0.1-py3-none-any.whl.metadata (6.8 kB)\n",
      "Downloading pypdf2-3.0.1-py3-none-any.whl (232 kB)\n",
      "\u001b[2K   \u001b[90m━━━━━━━━━━━━━━━━━━━━━━━━━━━━━━━━━━━━━━━━\u001b[0m \u001b[32m232.6/232.6 kB\u001b[0m \u001b[31m4.3 MB/s\u001b[0m eta \u001b[36m0:00:00\u001b[0ma \u001b[36m0:00:01\u001b[0m\n",
      "\u001b[?25hInstalling collected packages: PyPDF2\n",
      "Successfully installed PyPDF2-3.0.1\n",
      "Note: you may need to restart the kernel to use updated packages.\n"
     ]
    }
   ],
   "source": [
    "pip install PyPDF2"
   ]
  },
  {
   "cell_type": "code",
   "execution_count": 1,
   "id": "b6f78df1-394d-4628-8805-a8f60d29b166",
   "metadata": {},
   "outputs": [],
   "source": [
    "import PyPDF2\n",
    "import re"
   ]
  },
  {
   "cell_type": "code",
   "execution_count": 7,
   "id": "f921efb6-cda4-48c2-9ce5-e1be08d9b913",
   "metadata": {},
   "outputs": [
    {
     "name": "stdout",
     "output_type": "stream",
     "text": [
      "Text extraction complete and saved to /Users/robwells/Code/CompText_Jour/code/nicar_ocr-master/Chad_OCR_rsw_notes/notes/moley.txt\n"
     ]
    }
   ],
   "source": [
    "#Gemini version\n",
    "\n",
    "#import PyPDF2\n",
    "#import re\n",
    "\n",
    "import PyPDF2\n",
    "import re\n",
    "\n",
    "# File paths\n",
    "pdf_path = '/Users/robwells/Code/CompText_Jour/code/nicar_ocr-master/Chad_OCR_rsw_notes/notes/perspective__1952-03-03_newsweek.pdf'\n",
    "output_path = '/Users/robwells/Code/CompText_Jour/code/nicar_ocr-master/Chad_OCR_rsw_notes/notes/moley.txt'\n",
    "\n",
    "# Function to extract text\n",
    "def extract_text_from_pdf(pdf_path):\n",
    "    text = \"\"\n",
    "    with open(pdf_path, 'rb') as file:\n",
    "        reader = PyPDF2.PdfReader(file)\n",
    "        for page in reader.pages:\n",
    "            text += page.extract_text()\n",
    "    return text\n",
    "\n",
    "# Extract text\n",
    "extracted_text = extract_text_from_pdf(pdf_path)\n",
    "\n",
    "# Improved article boundary detection patterns\n",
    "article_start_pattern = re.compile(r\"(?i)RAY\\s+MOLEY\") # Case-insensitive now\n",
    "article_end_pattern = re.compile(r\"(?i)(WASHINGTON\\s+TIDES)|(PERISCOPE)\")\n",
    "\n",
    "# Find article start and end (with more flexibility)\n",
    "article_start_matches = article_start_pattern.finditer(extracted_text)\n",
    "article_end_matches = article_end_pattern.finditer(extracted_text)\n",
    "\n",
    "# Use a loop to find matching articles \n",
    "for start_match in article_start_matches:\n",
    "    start_index = start_match.start()\n",
    "    \n",
    "    # Find the corresponding end for this article\n",
    "    for end_match in article_end_matches:\n",
    "        if end_match.start() > start_index:\n",
    "            end_index = end_match.start()\n",
    "            break  # Exit the inner loop after finding the end\n",
    "\n",
    "    # Extract and save the article if both start and end are found\n",
    "    if end_index:\n",
    "        article_text = extracted_text[start_index:end_index].strip()\n",
    "        # ... (Save article_text to your output file, same as your code)\n",
    "    else:\n",
    "        print(f\"Incomplete article found starting at index {start_index}\") \n",
    "\n",
    "print(f\"Text extraction complete and saved to {output_path}\")\n",
    "\n"
   ]
  },
  {
   "cell_type": "code",
   "execution_count": null,
   "id": "61e80407-efd4-476d-b43a-aeeed46b19c3",
   "metadata": {},
   "outputs": [],
   "source": []
  }
 ],
 "metadata": {
  "kernelspec": {
   "display_name": "Python 3 (ipykernel)",
   "language": "python",
   "name": "python3"
  },
  "language_info": {
   "codemirror_mode": {
    "name": "ipython",
    "version": 3
   },
   "file_extension": ".py",
   "mimetype": "text/x-python",
   "name": "python",
   "nbconvert_exporter": "python",
   "pygments_lexer": "ipython3",
   "version": "3.11.8"
  }
 },
 "nbformat": 4,
 "nbformat_minor": 5
}
